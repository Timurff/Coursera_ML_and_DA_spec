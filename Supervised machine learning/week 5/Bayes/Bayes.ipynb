{
 "cells": [
  {
   "cell_type": "code",
   "execution_count": 17,
   "metadata": {},
   "outputs": [],
   "source": [
    "from sklearn import datasets\n",
    "from sklearn.model_selection import cross_val_score\n",
    "from sklearn.naive_bayes import BernoulliNB\n",
    "from sklearn.naive_bayes import MultinomialNB \n",
    "from sklearn.naive_bayes import GaussianNB"
   ]
  },
  {
   "cell_type": "code",
   "execution_count": 37,
   "metadata": {},
   "outputs": [],
   "source": [
    "digits_data, digits_target = datasets.load_digits(return_X_y=True)\n",
    "cancer_data, cancer_target = datasets.load_breast_cancer(return_X_y=True)"
   ]
  },
  {
   "cell_type": "code",
   "execution_count": 38,
   "metadata": {},
   "outputs": [],
   "source": [
    "clf_digits = BernoulliNB()\n",
    "clf_cancer = BernoulliNB()"
   ]
  },
  {
   "cell_type": "code",
   "execution_count": 39,
   "metadata": {},
   "outputs": [
    {
     "name": "stdout",
     "output_type": "stream",
     "text": [
      "0.8241736304549674\n",
      "0.6274181027790716\n"
     ]
    }
   ],
   "source": [
    "print(cross_val_score(clf_digits, digits_data, digits_target).mean())\n",
    "print(cross_val_score(clf_cancer, cancer_data, cancer_target).mean())"
   ]
  },
  {
   "cell_type": "code",
   "execution_count": 40,
   "metadata": {},
   "outputs": [],
   "source": [
    "clf_digits = MultinomialNB()\n",
    "clf_cancer = MultinomialNB()"
   ]
  },
  {
   "cell_type": "code",
   "execution_count": 41,
   "metadata": {},
   "outputs": [
    {
     "name": "stdout",
     "output_type": "stream",
     "text": [
      "0.8703497369235531\n",
      "0.8963204471355379\n"
     ]
    }
   ],
   "source": [
    "print(cross_val_score(clf_digits, digits_data, digits_target).mean())\n",
    "print(cross_val_score(clf_cancer, cancer_data, cancer_target).mean())"
   ]
  },
  {
   "cell_type": "code",
   "execution_count": 42,
   "metadata": {},
   "outputs": [],
   "source": [
    "clf_digits = GaussianNB()\n",
    "clf_cancer = GaussianNB()"
   ]
  },
  {
   "cell_type": "code",
   "execution_count": 43,
   "metadata": {},
   "outputs": [
    {
     "name": "stdout",
     "output_type": "stream",
     "text": [
      "0.8069281956050759\n",
      "0.9385188635305075\n"
     ]
    }
   ],
   "source": [
    "print(cross_val_score(clf_digits, digits_data, digits_target).mean())\n",
    "print(cross_val_score(clf_cancer, cancer_data, cancer_target).mean())"
   ]
  }
 ],
 "metadata": {
  "kernelspec": {
   "display_name": "Python 3",
   "language": "python",
   "name": "python3"
  },
  "language_info": {
   "codemirror_mode": {
    "name": "ipython",
    "version": 3
   },
   "file_extension": ".py",
   "mimetype": "text/x-python",
   "name": "python",
   "nbconvert_exporter": "python",
   "pygments_lexer": "ipython3",
   "version": "3.6.1"
  }
 },
 "nbformat": 4,
 "nbformat_minor": 4
}
